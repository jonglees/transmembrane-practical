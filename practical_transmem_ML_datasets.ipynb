{
  "nbformat": 4,
  "nbformat_minor": 0,
  "metadata": {
    "colab": {
      "provenance": [],
      "mount_file_id": "1hG0N83Rj6Lk_6WBJf-P4LdXddvAu8e-N",
      "authorship_tag": "ABX9TyOKtoWUXa1zlVfZRwM+aeoy",
      "include_colab_link": true
    },
    "kernelspec": {
      "name": "python3",
      "display_name": "Python 3"
    },
    "language_info": {
      "name": "python"
    }
  },
  "cells": [
    {
      "cell_type": "markdown",
      "metadata": {
        "id": "view-in-github",
        "colab_type": "text"
      },
      "source": [
        "<a href=\"https://colab.research.google.com/github/jonglees/transmembrane-practical/blob/main/practical_transmem_ML_datasets.ipynb\" target=\"_parent\"><img src=\"https://colab.research.google.com/assets/colab-badge.svg\" alt=\"Open In Colab\"/></a>"
      ]
    },
    {
      "cell_type": "markdown",
      "source": [
        "# Task 0: Set things up\n",
        "Download the training set for a transmembrane predictor\n",
        "(just run the cells in this section, no changes needed)"
      ],
      "metadata": {
        "id": "Al-Lf2fw0rdE"
      }
    },
    {
      "cell_type": "code",
      "source": [
        "import numpy as np\n",
        "import pandas as pd\n",
        "from sklearn.model_selection import train_test_split\n",
        "from sklearn.ensemble import RandomForestClassifier\n",
        "from sklearn.metrics import classification_report\n",
        "import h5py\n"
      ],
      "metadata": {
        "id": "Jb28U6R39SZD"
      },
      "execution_count": 1,
      "outputs": []
    },
    {
      "cell_type": "code",
      "source": [
        "\"\"\"Download training data\"\"\"\n",
        "!wget https://github.com/jonglees/transmembrane-practical/raw/refs/heads/main/df_tm_surf_train.h5"
      ],
      "metadata": {
        "id": "u5ukhYOay6St"
      },
      "execution_count": null,
      "outputs": []
    },
    {
      "cell_type": "code",
      "source": [
        "\"\"\"Make training data balanced between transmembrane and non-transmembrane\"\"\"\n",
        "df_train=pd.read_hdf(\"df_tm_surf_train.h5\")\n",
        "num_pos_tm=df_train[df_train.tm==1].shape[0]\n",
        "num_neg_tm=df_train[df_train.tm==0].shape[0]\n",
        "print(\"number transmembrane\", num_pos_tm, \"number non transmembrane\", num_neg_tm, \"before balancing classes\")\n",
        "df_train_pos_tm = df_train[df_train.tm==1]\n",
        "df_train_neg_tm = df_train[df_train.tm==0].sample(num_pos_tm)\n",
        "df_train_tm = pd.concat([df_train_pos_tm, df_train_neg_tm])\n",
        "num_pos_tm=df_train_tm[df_train_tm.tm==1].shape[0]\n",
        "num_neg_tm=df_train_tm[df_train_tm.tm==0].shape[0]\n",
        "print(\"number transmembrane\", num_pos_tm, \"number non transmembrane\", num_neg_tm, \"after balancing classes\")"
      ],
      "metadata": {
        "id": "ayeBL43o648_"
      },
      "execution_count": null,
      "outputs": []
    },
    {
      "cell_type": "markdown",
      "source": [
        "# Task 1: Train and evaluate your own ML method to predict transmembrane proteins\n",
        "(if you get stuck you can ask Gemini for help or click Example Answer but try yourself first)"
      ],
      "metadata": {
        "id": "S-JuVLBX03Jm"
      }
    },
    {
      "cell_type": "code",
      "source": [
        "#train and evaluate random forest classifier using scikits with the df_train_tm data frame using the embeddings column as inputs and the binary label 'tm' as the ouput\n"
      ],
      "metadata": {
        "id": "BoCWREoL8Ifz"
      },
      "execution_count": null,
      "outputs": []
    },
    {
      "cell_type": "code",
      "source": [
        "# @title Example Answer\n",
        "\n",
        "\n",
        "# Split data into training and testing sets\n",
        "X_train, X_test, y_train, y_test = train_test_split(\n",
        "    list(df_train_tm['embeddings']), df_train_tm['tm'], test_size=0.2, random_state=42\n",
        ")\n",
        "\n",
        "# Initialize and train a RandomForestClassifier\n",
        "clf_tm = RandomForestClassifier(random_state=42,n_estimators=50,max_depth=4)  # You can adjust hyperparameters here\n",
        "clf_tm.fit(X_train, y_train)\n",
        "\n",
        "# Make predictions on the test set\n",
        "y_pred = clf_tm.predict(X_test)\n",
        "\n",
        "# Evaluate the classifier\n",
        "print(classification_report(y_test, y_pred))"
      ],
      "metadata": {
        "cellView": "form",
        "id": "wJmec-iz1Vzf"
      },
      "execution_count": null,
      "outputs": []
    },
    {
      "cell_type": "markdown",
      "source": [
        "# Task 2: Plot a ROC curve of your data"
      ],
      "metadata": {
        "id": "cih0WN1S8kul"
      }
    },
    {
      "cell_type": "code",
      "source": [
        "#write code to plot a ROC curve using scikits on the test set using the trained classifier\n"
      ],
      "metadata": {
        "id": "JxY9lbPI871s"
      },
      "execution_count": null,
      "outputs": []
    },
    {
      "cell_type": "code",
      "source": [
        "# @title Example Answer\n",
        "import matplotlib.pyplot as plt\n",
        "from sklearn.metrics import roc_curve, auc\n",
        "\n",
        "# Predict probabilities for the positive class\n",
        "y_prob = clf_tm.predict_proba(X_test)[:, 1]\n",
        "\n",
        "# Compute ROC curve and AUC\n",
        "fpr, tpr, thresholds = roc_curve(y_test, y_prob)\n",
        "roc_auc = auc(fpr, tpr)\n",
        "\n",
        "# Plot the ROC curve\n",
        "plt.figure()\n",
        "plt.plot(fpr, tpr, color='darkorange', lw=2, label='ROC curve (area = %0.2f)' % roc_auc)\n",
        "plt.plot([0, 1], [0, 1], color='navy', lw=2, linestyle='--')\n",
        "plt.xlim([0.0, 1.0])\n",
        "plt.ylim([0.0, 1.05])\n",
        "plt.xlabel('False Positive Rate')\n",
        "plt.ylabel('True Positive Rate')\n",
        "plt.title('Receiver Operating Characteristic')\n",
        "plt.legend(loc=\"lower right\")\n",
        "plt.show()\n"
      ],
      "metadata": {
        "id": "0gz_me4x-vqK",
        "cellView": "form"
      },
      "execution_count": null,
      "outputs": []
    },
    {
      "cell_type": "markdown",
      "source": [
        "# Task 3: Train and evaluate your own ML method to predict cell surface proteins"
      ],
      "metadata": {
        "id": "uuuuDVa-rBLJ"
      }
    },
    {
      "cell_type": "code",
      "source": [
        "\"\"\"First just run this cell if you want a balanced set of positive and negative examples\"\"\"\n",
        "num_pos_surf=df_train[df_train.surf==1].shape[0]\n",
        "num_neg_surf=df_train[df_train.surf==0].shape[0]\n",
        "df_train_pos_surf = df_train[df_train.surf==1].sample(num_neg_surf)\n",
        "df_train_neg_surf = df_train[df_train.surf==0]\n",
        "df_train_surf = pd.concat([df_train_pos_surf, df_train_neg_surf])"
      ],
      "metadata": {
        "id": "9S8c4B9OruLT"
      },
      "execution_count": 6,
      "outputs": []
    },
    {
      "cell_type": "code",
      "source": [
        "#train and evaluate random forest classifier using scikits with the df_train_surf data frame using the embeddings column as inputs and the binary label 'surf' as the ouput\n"
      ],
      "metadata": {
        "id": "c_oPJvVX3rDh"
      },
      "execution_count": null,
      "outputs": []
    },
    {
      "cell_type": "code",
      "source": [
        "# @title Example Answer\n",
        "#plot a ROC curve using scikits on the test set using the trained classifier\n",
        "\n",
        "# Split data into training and testing sets\n",
        "X_train, X_test, y_train, y_test = train_test_split(\n",
        "    list(df_train_surf['embeddings']), df_train_surf['surf'], test_size=0.2, random_state=42\n",
        ")\n",
        "\n",
        "# Initialize and train a RandomForestClassifier\n",
        "clf_surf = RandomForestClassifier(random_state=42,n_estimators=100,max_depth=5)  # You can adjust hyperparameters here\n",
        "clf_surf.fit(X_train, y_train)\n",
        "\n",
        "# Make predictions on the test set\n",
        "y_pred = clf_surf.predict(X_test)\n",
        "\n",
        "# Evaluate the classifier\n",
        "print(classification_report(y_test, y_pred))\n",
        "\n",
        "# Predict probabilities for the positive class\n",
        "y_prob = clf_surf.predict_proba(X_test)[:, 1]\n",
        "\n",
        "# Compute ROC curve and AUC\n",
        "fpr, tpr, thresholds = roc_curve(y_test, y_prob)\n",
        "roc_auc = auc(fpr, tpr)\n",
        "\n",
        "# Plot the ROC curve\n",
        "plt.figure()\n",
        "plt.plot(fpr, tpr, color='darkorange', lw=2, label='ROC curve (area = %0.2f)' % roc_auc)\n",
        "plt.plot([0, 1], [0, 1], color='navy', lw=2, linestyle='--')\n",
        "plt.xlim([0.0, 1.0])\n",
        "plt.ylim([0.0, 1.05])\n",
        "plt.xlabel('False Positive Rate')\n",
        "plt.ylabel('True Positive Rate')\n",
        "plt.title('Receiver Operating Characteristic')\n",
        "plt.legend(loc=\"lower right\")\n",
        "plt.show()"
      ],
      "metadata": {
        "cellView": "form",
        "id": "M_S7YuZz39Rk"
      },
      "execution_count": null,
      "outputs": []
    },
    {
      "cell_type": "markdown",
      "source": [
        "# Task 4: Are some human proteins misannotated in the database, do your ML tools help?\n",
        "For example this protein A8MTB9 is not predicted as transmembrane what do your cell surface and transmembrane classifiers assign this protein as. Does this prediction tool https://services.healthtech.dtu.dk/services/TMHMM-2.0/ agree with your predictions"
      ],
      "metadata": {
        "id": "D57mnFB75bUn"
      }
    },
    {
      "cell_type": "code",
      "source": [],
      "metadata": {
        "id": "5EruH6AMCH_B"
      },
      "execution_count": null,
      "outputs": []
    },
    {
      "cell_type": "code",
      "source": [
        "# @title Example Answer\n",
        "df_train['surf_pred']=clf_surf.predict(list(df_train['embeddings']))\n",
        "df_train['tm_pred']=clf_tm.predict(list(df_train['embeddings']))\n",
        "\n",
        "df_train['surf_pred_prob']=clf_surf.predict_proba(list(df_train['embeddings']))[:, 1]\n",
        "df_train['tm_pred_prob']=clf_tm.predict_proba(list(df_train['embeddings']))[:, 1]\n",
        "\n",
        "print(df_train[df_train.accessions==\"A8MTB9\"])"
      ],
      "metadata": {
        "cellView": "form",
        "id": "Fet0xDzFBmXI"
      },
      "execution_count": 10,
      "outputs": []
    },
    {
      "cell_type": "markdown",
      "source": [
        "# Task 5: Can we apply our method to malaria\n",
        "Can you run your classifier on the p.falciparum (malaria) proteome. Anything new targets? e.g. What does your classifier make of this malaria protein for example: O96274"
      ],
      "metadata": {
        "id": "B912RWbqRPKo"
      }
    },
    {
      "cell_type": "code",
      "source": [
        "\"\"\"First download the malaria proteome embeddings\"\"\"\n",
        "!wget https://github.com/jonglees/transmembrane-practical/raw/refs/heads/main/df_falcip.h5\n",
        "df_falcip=pd.read_hdf(\"df_falcip.h5\")"
      ],
      "metadata": {
        "id": "2JvCCmzo6xho"
      },
      "execution_count": null,
      "outputs": []
    },
    {
      "cell_type": "code",
      "source": [
        "# @title Example answer\n",
        "df_falcip['surf_pred']=clf_surf.predict(list(df_falcip['embeddings']))\n",
        "df_falcip['tm_pred']=clf_tm.predict(list(df_falcip['embeddings']))\n",
        "\n",
        "df_falcip['surf_pred_prob']=clf_surf.predict_proba(list(df_falcip['embeddings']))[:, 1]\n",
        "df_falcip['tm_pred_prob']=clf_tm.predict_proba(list(df_falcip['embeddings']))[:, 1]\n",
        "\n",
        "df_falcip[df_falcip[\"accessions\"]==\"O96274\"]"
      ],
      "metadata": {
        "id": "PhPbtcTARbml",
        "cellView": "form"
      },
      "execution_count": null,
      "outputs": []
    }
  ]
}